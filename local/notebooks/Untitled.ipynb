{
 "cells": [
  {
   "cell_type": "code",
   "execution_count": 1,
   "id": "ccdee217-a3ef-4056-80d8-2fed5518d8b8",
   "metadata": {},
   "outputs": [],
   "source": [
    "from pyspark.sql import functions as F\n"
   ]
  },
  {
   "cell_type": "code",
   "execution_count": 18,
   "id": "060ea159-4bd7-405e-a71e-5c6fc3e20a6c",
   "metadata": {},
   "outputs": [],
   "source": [
    "from pyspark.sql import SparkSession\n",
    "\n",
    "spark = SparkSession.\\\n",
    "        builder.\\\n",
    "        appName(\"pyspark-nb-1\").\\\n",
    "        master(\"spark://spark-master:7077\").\\\n",
    "        config(\"spark.sql.adaptive.coalescePartitions.enabled\", False). \\\n",
    "        config(\"spark.executor.memory\", \"1G\").\\\n",
    "        config(\"spark.eventLog.enabled\", \"true\").\\\n",
    "        config(\"spark.eventLog.dir\", \"file:///opt/workspace/events\").\\\n",
    "        config(\"spark.sql.shuffle.partitions\",10). \\\n",
    "        getOrCreate()"
   ]
  },
  {
   "cell_type": "code",
   "execution_count": 19,
   "id": "537eef43-47e2-4c3a-8c30-cbc3758c47f7",
   "metadata": {},
   "outputs": [
    {
     "data": {
      "text/html": [
       "\n",
       "            <div>\n",
       "                <p><b>SparkSession - in-memory</b></p>\n",
       "                \n",
       "        <div>\n",
       "            <p><b>SparkContext</b></p>\n",
       "\n",
       "            <p><a href=\"http://37c4c69769ff:4040\">Spark UI</a></p>\n",
       "\n",
       "            <dl>\n",
       "              <dt>Version</dt>\n",
       "                <dd><code>v3.4.2</code></dd>\n",
       "              <dt>Master</dt>\n",
       "                <dd><code>spark://spark-master:7077</code></dd>\n",
       "              <dt>AppName</dt>\n",
       "                <dd><code>pyspark-nb-1</code></dd>\n",
       "            </dl>\n",
       "        </div>\n",
       "        \n",
       "            </div>\n",
       "        "
      ],
      "text/plain": [
       "<pyspark.sql.session.SparkSession at 0xffff8c1dae10>"
      ]
     },
     "execution_count": 19,
     "metadata": {},
     "output_type": "execute_result"
    }
   ],
   "source": [
    "spark"
   ]
  },
  {
   "cell_type": "code",
   "execution_count": 4,
   "id": "2722a0e8-2d71-44e2-babf-d75507dce041",
   "metadata": {},
   "outputs": [
    {
     "data": {
      "text/plain": [
       "'/opt/workspace/notebooks'"
      ]
     },
     "execution_count": 4,
     "metadata": {},
     "output_type": "execute_result"
    }
   ],
   "source": [
    "import os\n",
    "os.getcwd()"
   ]
  },
  {
   "cell_type": "code",
   "execution_count": 20,
   "id": "2f53da99-109e-4323-85b0-b0f2349638f8",
   "metadata": {},
   "outputs": [
    {
     "name": "stderr",
     "output_type": "stream",
     "text": [
      "[Stage 8:=================================================>         (5 + 1) / 6]\r"
     ]
    },
    {
     "name": "stdout",
     "output_type": "stream",
     "text": [
      "root\n",
      " |-- userId: integer (nullable = true)\n",
      " |-- movieId: integer (nullable = true)\n",
      " |-- rating: double (nullable = true)\n",
      " |-- timestamp: integer (nullable = true)\n",
      "\n"
     ]
    },
    {
     "name": "stderr",
     "output_type": "stream",
     "text": [
      "                                                                                \r"
     ]
    }
   ],
   "source": [
    "# Emp Data & Schema\n",
    "\n",
    "emp_data = spark.read.csv('/opt/workspace/datain/ratings.csv', header=True, inferSchema=True)\n",
    "emp_data.printSchema()"
   ]
  },
  {
   "cell_type": "code",
   "execution_count": 21,
   "id": "2ecafabe-4380-4a83-9e41-d8238b452d13",
   "metadata": {},
   "outputs": [
    {
     "name": "stdout",
     "output_type": "stream",
     "text": [
      "+------+-------+------+----------+\n",
      "|userId|movieId|rating| timestamp|\n",
      "+------+-------+------+----------+\n",
      "|     1|    110|   1.0|1425941529|\n",
      "|     1|    147|   4.5|1425942435|\n",
      "|     1|    858|   5.0|1425941523|\n",
      "|     1|   1221|   5.0|1425941546|\n",
      "|     1|   1246|   5.0|1425941556|\n",
      "|     1|   1968|   4.0|1425942148|\n",
      "|     1|   2762|   4.5|1425941300|\n",
      "|     1|   2918|   5.0|1425941593|\n",
      "|     1|   2959|   4.0|1425941601|\n",
      "|     1|   4226|   4.0|1425942228|\n",
      "+------+-------+------+----------+\n",
      "only showing top 10 rows\n",
      "\n"
     ]
    }
   ],
   "source": [
    "emp_data.show(10)"
   ]
  },
  {
   "cell_type": "code",
   "execution_count": 22,
   "id": "42d93b0f-c040-4db2-95b5-8c2e9d861e2c",
   "metadata": {},
   "outputs": [
    {
     "data": {
      "text/plain": [
       "6"
      ]
     },
     "execution_count": 22,
     "metadata": {},
     "output_type": "execute_result"
    }
   ],
   "source": [
    "emp_data.rdd.getNumPartitions()"
   ]
  },
  {
   "cell_type": "code",
   "execution_count": 23,
   "id": "76a40b6c-2ae9-4e4e-80e3-898a1fe53243",
   "metadata": {},
   "outputs": [],
   "source": [
    "grouped_df1 =(emp_data.groupby(\"movieId\")\n",
    "            .agg(F.avg('rating')\n",
    "            .alias(\"avg_rating\"))\n",
    "            .orderBy(F.desc(\"avg_rating\"))\n",
    "            )"
   ]
  },
  {
   "cell_type": "code",
   "execution_count": 24,
   "id": "fc2c528c-3b2a-4a48-9977-0313f4501e52",
   "metadata": {},
   "outputs": [
    {
     "name": "stderr",
     "output_type": "stream",
     "text": [
      "[Stage 10:================================================>         (5 + 1) / 6]\r"
     ]
    },
    {
     "name": "stdout",
     "output_type": "stream",
     "text": [
      "+-------+----------+\n",
      "|movieId|avg_rating|\n",
      "+-------+----------+\n",
      "| 133970|       5.0|\n",
      "| 146487|       5.0|\n",
      "| 164907|       5.0|\n",
      "| 174133|       5.0|\n",
      "| 147966|       5.0|\n",
      "| 151691|       5.0|\n",
      "| 152765|       5.0|\n",
      "| 167506|       5.0|\n",
      "| 165233|       5.0|\n",
      "| 171923|       5.0|\n",
      "+-------+----------+\n",
      "only showing top 10 rows\n",
      "\n"
     ]
    },
    {
     "name": "stderr",
     "output_type": "stream",
     "text": [
      "                                                                                \r"
     ]
    }
   ],
   "source": [
    "grouped_df1.show(10)"
   ]
  },
  {
   "cell_type": "code",
   "execution_count": 25,
   "id": "25acbd3e-446d-4f17-93f1-b6c61fdc359d",
   "metadata": {},
   "outputs": [],
   "source": [
    "grouped_df2 =(emp_data.groupby(\"movieId\")\n",
    "            .agg(F.avg('rating')\n",
    "            .alias(\"avg_rating\"))\n",
    "            .orderBy(F.col(\"avg_rating\").desc())\n",
    "            )"
   ]
  },
  {
   "cell_type": "code",
   "execution_count": 26,
   "id": "abb7de04-6870-462d-b3b4-c60da717c73d",
   "metadata": {},
   "outputs": [
    {
     "name": "stderr",
     "output_type": "stream",
     "text": [
      "[Stage 13:================================================>         (5 + 1) / 6]\r"
     ]
    },
    {
     "name": "stdout",
     "output_type": "stream",
     "text": [
      "+-------+----------+\n",
      "|movieId|avg_rating|\n",
      "+-------+----------+\n",
      "| 171777|       5.0|\n",
      "| 146487|       5.0|\n",
      "| 164907|       5.0|\n",
      "| 174133|       5.0|\n",
      "| 147966|       5.0|\n",
      "| 151691|       5.0|\n",
      "| 152765|       5.0|\n",
      "| 167506|       5.0|\n",
      "| 167080|       5.0|\n",
      "| 171923|       5.0|\n",
      "+-------+----------+\n",
      "only showing top 10 rows\n",
      "\n"
     ]
    },
    {
     "name": "stderr",
     "output_type": "stream",
     "text": [
      "                                                                                \r"
     ]
    }
   ],
   "source": [
    "grouped_df2.show(10)"
   ]
  },
  {
   "cell_type": "code",
   "execution_count": null,
   "id": "0d08e908-5be0-4898-b13d-c65c0b941f45",
   "metadata": {},
   "outputs": [],
   "source": [
    "agg_df.show()"
   ]
  },
  {
   "cell_type": "code",
   "execution_count": null,
   "id": "86761c41-3638-4f0e-8779-76c21ca7659a",
   "metadata": {},
   "outputs": [],
   "source": []
  }
 ],
 "metadata": {
  "kernelspec": {
   "display_name": "Python 3 (ipykernel)",
   "language": "python",
   "name": "python3"
  },
  "language_info": {
   "codemirror_mode": {
    "name": "ipython",
    "version": 3
   },
   "file_extension": ".py",
   "mimetype": "text/x-python",
   "name": "python",
   "nbconvert_exporter": "python",
   "pygments_lexer": "ipython3",
   "version": "3.11.8"
  }
 },
 "nbformat": 4,
 "nbformat_minor": 5
}
